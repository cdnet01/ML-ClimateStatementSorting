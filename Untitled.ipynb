{
 "cells": [
  {
   "cell_type": "code",
   "execution_count": 4,
   "id": "4b1e5a57",
   "metadata": {},
   "outputs": [],
   "source": [
    "import os\n",
    "import re\n",
    "\n",
    "import numpy as np\n",
    "import pandas as pd\n",
    "from sentence_transformers import SentenceTransformer\n",
    "from sklearn import svm"
   ]
  },
  {
   "cell_type": "code",
   "execution_count": 2,
   "id": "eb0fb4be",
   "metadata": {},
   "outputs": [],
   "source": [
    "df = pd.read_csv(\"input/twitter_sentiment_data.csv\")\n",
    "df.drop(columns=[\"tweetid\"])\n",
    "\n",
    "train, validate, test = np.split(df.sample(frac=1, random_state=0), [int(.6*len(df)), int(.8*len(df))])"
   ]
  },
  {
   "cell_type": "code",
   "execution_count": 3,
   "id": "e457a68b",
   "metadata": {},
   "outputs": [],
   "source": [
    "if not os.path.isfile(f\"model/config.json\"):\n",
    "    new_model = SentenceTransformer(\"all-MiniLM-L12-v2\")\n",
    "    new_model.save(\"model/\")\n",
    "transformer = SentenceTransformer.load(\"model/\")"
   ]
  },
  {
   "cell_type": "code",
   "execution_count": 7,
   "id": "24d24844",
   "metadata": {},
   "outputs": [],
   "source": [
    "def preprocess_dataframe(dataframe):\n",
    "    messages = dataframe[\"message\"].values\n",
    "    processed = []\n",
    "    for message in messages:\n",
    "        remove_retweets = re.sub(r\"RT @\\w+:\", \"\", message)\n",
    "        remove_ats = re.sub(r\"@\\w+:\", \"\", remove_retweets)\n",
    "        processed.append(remove_ats)\n",
    "    encoded = transformer.encode(messages)\n",
    "    dataframe[\"encoded\"] = encoded.tolist()"
   ]
  },
  {
   "cell_type": "code",
   "execution_count": 8,
   "id": "04cf5ea5",
   "metadata": {},
   "outputs": [],
   "source": [
    "preprocess_dataframe(train)\n",
    "preprocess_dataframe(validate)"
   ]
  },
  {
   "cell_type": "code",
   "execution_count": 9,
   "id": "212df850",
   "metadata": {},
   "outputs": [
    {
     "name": "stdout",
     "output_type": "stream",
     "text": [
      "0.7352372283536238\n"
     ]
    }
   ],
   "source": [
    "model = svm.SVC()\n",
    "model.fit(train[\"encoded\"].tolist(), train[\"sentiment\"])\n",
    "print(model.score(validate[\"encoded\"].tolist(), validate[\"sentiment\"]))"
   ]
  },
  {
   "cell_type": "code",
   "execution_count": null,
   "id": "270a7215",
   "metadata": {},
   "outputs": [],
   "source": []
  }
 ],
 "metadata": {
  "kernelspec": {
   "display_name": "Python 3 (ipykernel)",
   "language": "python",
   "name": "python3"
  },
  "language_info": {
   "codemirror_mode": {
    "name": "ipython",
    "version": 3
   },
   "file_extension": ".py",
   "mimetype": "text/x-python",
   "name": "python",
   "nbconvert_exporter": "python",
   "pygments_lexer": "ipython3",
   "version": "3.11.5"
  }
 },
 "nbformat": 4,
 "nbformat_minor": 5
}
