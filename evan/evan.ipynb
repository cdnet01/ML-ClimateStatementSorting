{
 "cells": [
  {
   "cell_type": "code",
   "execution_count": 1,
   "id": "4b1e5a57",
   "metadata": {},
   "outputs": [],
   "source": [
    "import os\n",
    "import re\n",
    "\n",
    "import numpy as np\n",
    "import pandas as pd\n",
    "from sentence_transformers import SentenceTransformer\n",
    "from sklearn import svm"
   ]
  },
  {
   "cell_type": "code",
   "execution_count": 2,
   "id": "eb0fb4be",
   "metadata": {},
   "outputs": [],
   "source": [
    "df = pd.read_csv(\"../input/twitter_sentiment_data.csv\")\n",
    "df.drop(columns=[\"tweetid\"])\n",
    "df = df.drop(df[df.sentiment == 2].index)\n",
    "\n",
    "train, validate, test = np.split(df.sample(frac=1, random_state=0), [int(.6*len(df)), int(.8*len(df))])\n",
    "train_polar = train.drop(train[train.sentiment == 0].index)\n",
    "validate_polar = validate.drop(validate[validate.sentiment == 0].index)\n",
    "test_polar = test.drop(test[test.sentiment == 0].index)"
   ]
  },
  {
   "cell_type": "code",
   "execution_count": 3,
   "id": "e457a68b",
   "metadata": {},
   "outputs": [],
   "source": [
    "if not os.path.isfile(f\"model/config.json\"):\n",
    "    new_model = SentenceTransformer(\"all-MiniLM-L12-v2\")\n",
    "    new_model.save(\"model/\")\n",
    "transformer = SentenceTransformer.load(\"model/\")"
   ]
  },
  {
   "cell_type": "code",
   "execution_count": 4,
   "id": "24d24844",
   "metadata": {},
   "outputs": [],
   "source": [
    "def preprocess_dataframe(dataframe):\n",
    "    messages = dataframe[\"message\"].values\n",
    "    processed = []\n",
    "    for message in messages:\n",
    "        remove_retweets = re.sub(r\"RT @\\w+:\", \"\", message)\n",
    "        remove_ats = re.sub(r\"@\\w+:\", \"\", remove_retweets)\n",
    "        remove_hashtags = re.sub(r\"#\", \"\", remove_ats)\n",
    "        processed.append(remove_hashtags)\n",
    "    encoded = transformer.encode(messages)\n",
    "    dataframe[\"encoded\"] = encoded.tolist()"
   ]
  },
  {
   "cell_type": "code",
   "execution_count": 5,
   "id": "04cf5ea5",
   "metadata": {},
   "outputs": [],
   "source": [
    "preprocess_dataframe(train)\n",
    "preprocess_dataframe(validate)\n",
    "preprocess_dataframe(train_polar)\n",
    "preprocess_dataframe(validate_polar)"
   ]
  },
  {
   "cell_type": "code",
   "execution_count": null,
   "id": "212df850",
   "metadata": {},
   "outputs": [
    {
     "name": "stdout",
     "output_type": "stream",
     "text": [
      "polynomial kernel SVC:\n"
     ]
    }
   ],
   "source": [
    "print(\"polynomial kernel SVC:\")\n",
    "model = svm.SVC(kernel=\"poly\")\n",
    "model.fit(train[\"encoded\"].tolist(), train[\"sentiment\"])\n",
    "\n",
    "model_polar = svm.SVC(kernel=\"poly\")\n",
    "model_polar.fit(train_polar[\"encoded\"].tolist(), train_polar[\"sentiment\"])"
   ]
  },
  {
   "cell_type": "code",
   "execution_count": 7,
   "id": "270a7215",
   "metadata": {},
   "outputs": [
    {
     "name": "stdout",
     "output_type": "stream",
     "text": [
      "score when including neutral in train and validate\n",
      "0.7921534689167748\n",
      "score when including neutral in train only\n",
      "0.8718278778962854\n",
      "score when excluding neutral\n",
      "0.9157778595071717\n"
     ]
    }
   ],
   "source": [
    "print(\"score when including neutral in train and validate\")\n",
    "print(model.score(validate[\"encoded\"].tolist(), validate[\"sentiment\"]))\n",
    "print(\"score when including neutral in train only\")\n",
    "print(model.score(validate_polar[\"encoded\"].tolist(), validate_polar[\"sentiment\"]))\n",
    "print(\"score when excluding neutral\")\n",
    "print(model_polar.score(validate_polar[\"encoded\"].tolist(), validate_polar[\"sentiment\"]))"
   ]
  }
 ],
 "metadata": {
  "kernelspec": {
   "display_name": "Python 3 (ipykernel)",
   "language": "python",
   "name": "python3"
  },
  "language_info": {
   "codemirror_mode": {
    "name": "ipython",
    "version": 3
   },
   "file_extension": ".py",
   "mimetype": "text/x-python",
   "name": "python",
   "nbconvert_exporter": "python",
   "pygments_lexer": "ipython3",
   "version": "3.11.5"
  }
 },
 "nbformat": 4,
 "nbformat_minor": 5
}
