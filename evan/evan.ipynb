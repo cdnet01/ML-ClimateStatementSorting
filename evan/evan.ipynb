{
 "cells": [
  {
   "cell_type": "code",
   "execution_count": 51,
   "id": "4b1e5a57",
   "metadata": {},
   "outputs": [],
   "source": [
    "import os\n",
    "import re\n",
    "\n",
    "import matplotlib.pyplot as plt\n",
    "import numpy as np\n",
    "import pandas as pd\n",
    "from sentence_transformers import SentenceTransformer\n",
    "from sklearn import svm\n",
    "from sklearn.model_selection import cross_val_score\n",
    "from sklearn.metrics import accuracy_score, f1_score"
   ]
  },
  {
   "cell_type": "code",
   "execution_count": 38,
   "id": "eb0fb4be",
   "metadata": {},
   "outputs": [
    {
     "name": "stdout",
     "output_type": "stream",
     "text": [
      "(27733, 3)\n",
      "(6934, 3)\n"
     ]
    }
   ],
   "source": [
    "df = pd.read_csv(\"../input/twitter_sentiment_data.csv\")\n",
    "df.drop(columns=[\"tweetid\"])\n",
    "df = df.drop(df[df.sentiment == 2].index)\n",
    "\n",
    "cv_all, test = np.split(df.sample(frac=1, random_state=0), [int(.8*len(df))])\n",
    "cv_all_polar = cv_all.drop(cv_all[cv_all.sentiment == 0].index)\n",
    "test_polar = test.drop(test[test.sentiment == 0].index)\n",
    "print(cv_all.shape)\n",
    "print(test.shape)"
   ]
  },
  {
   "cell_type": "code",
   "execution_count": 39,
   "id": "e457a68b",
   "metadata": {},
   "outputs": [],
   "source": [
    "if not os.path.isfile(f\"model/config.json\"):\n",
    "    new_model = SentenceTransformer(\"all-MiniLM-L12-v2\")\n",
    "    new_model.save(\"model/\")\n",
    "transformer = SentenceTransformer.load(\"model/\")"
   ]
  },
  {
   "cell_type": "code",
   "execution_count": 40,
   "id": "24d24844",
   "metadata": {},
   "outputs": [],
   "source": [
    "def preprocess_dataframe(dataframe):\n",
    "    messages = dataframe[\"message\"].values\n",
    "    processed = []\n",
    "    for message in messages:\n",
    "        remove_retweets = re.sub(r\"RT @\\w+:\", \"\", message)\n",
    "        remove_ats = re.sub(r\"@\\w+:\", \"\", remove_retweets)\n",
    "        remove_hashtags = re.sub(r\"#\", \"\", remove_ats)\n",
    "        processed.append(remove_hashtags)\n",
    "    encoded = transformer.encode(processed)\n",
    "    dataframe[\"encoded\"] = encoded.tolist()"
   ]
  },
  {
   "cell_type": "code",
   "execution_count": 41,
   "id": "04cf5ea5",
   "metadata": {},
   "outputs": [],
   "source": [
    "preprocess_dataframe(cv_all)\n",
    "preprocess_dataframe(cv_all_polar)"
   ]
  },
  {
   "cell_type": "code",
   "execution_count": 42,
   "id": "94d83d23",
   "metadata": {},
   "outputs": [],
   "source": [
    "model = svm.SVC(kernel=\"poly\")\n",
    "# scores = cross_val_score(model, cv_all[\"encoded\"].tolist(), cv_all[\"sentiment\"], cv=5)\n",
    "# print(scores)"
   ]
  },
  {
   "cell_type": "code",
   "execution_count": 7,
   "id": "a77a85e2",
   "metadata": {},
   "outputs": [],
   "source": [
    "def scores_f1(estimator, X, y):\n",
    "    y_pred = estimator.predict(X)\n",
    "    return f1_score(y, y_pred, average='micro')\n",
    "\n",
    "def scores_accuracy(estimator, X, y):\n",
    "    y_pred = estimator.predict(X)\n",
    "    return accuracy_score(y, y_pred)"
   ]
  },
  {
   "cell_type": "code",
   "execution_count": 8,
   "id": "212df850",
   "metadata": {},
   "outputs": [
    {
     "name": "stdout",
     "output_type": "stream",
     "text": [
      "f1 scores with neutral: [0.78799351 0.79015684 0.78510907 0.79102056 0.79065994]\n"
     ]
    }
   ],
   "source": [
    "scores_dict_f1 = cross_val_score(model, cv_all[\"encoded\"].tolist(), cv_all[\"sentiment\"], scoring=scores_f1, cv=5)\n",
    "print(f\"f1 scores with neutral: {scores_dict_f1}\")"
   ]
  },
  {
   "cell_type": "code",
   "execution_count": 9,
   "id": "9f114957",
   "metadata": {},
   "outputs": [
    {
     "name": "stdout",
     "output_type": "stream",
     "text": [
      "accuracy scores with neutral: [0.78799351 0.79015684 0.78510907 0.79102056 0.79065994]\n"
     ]
    }
   ],
   "source": [
    "scores_dict_accuracy = cross_val_score(model, cv_all[\"encoded\"].tolist(), cv_all[\"sentiment\"], scoring=scores_accuracy, cv=5)\n",
    "print(f\"accuracy scores with neutral: {scores_dict_accuracy}\")"
   ]
  },
  {
   "cell_type": "code",
   "execution_count": 10,
   "id": "270a7215",
   "metadata": {},
   "outputs": [],
   "source": [
    "#without neutral\n",
    "model_polar = svm.SVC(kernel=\"poly\")"
   ]
  },
  {
   "cell_type": "code",
   "execution_count": 11,
   "id": "7349fecc",
   "metadata": {},
   "outputs": [
    {
     "name": "stdout",
     "output_type": "stream",
     "text": [
      "f1 scores without neutral: [0.92090657 0.91304348 0.91857506 0.91533657 0.91325468]\n"
     ]
    }
   ],
   "source": [
    "scores_dict_f1_polar = cross_val_score(model_polar, cv_all_polar[\"encoded\"].tolist(), cv_all_polar[\"sentiment\"], scoring=scores_f1, cv=5)\n",
    "print(f\"f1 scores without neutral: {scores_dict_f1_polar}\")"
   ]
  },
  {
   "cell_type": "code",
   "execution_count": 12,
   "id": "c9ab2e26",
   "metadata": {},
   "outputs": [
    {
     "name": "stdout",
     "output_type": "stream",
     "text": [
      "accuracy scores without neutral: [0.92090657 0.91304348 0.91857506 0.91533657 0.91325468]\n"
     ]
    }
   ],
   "source": [
    "scores_dict_accuracy_polar = cross_val_score(model_polar, cv_all_polar[\"encoded\"].tolist(), cv_all_polar[\"sentiment\"], scoring=scores_accuracy, cv=5)\n",
    "print(f\"accuracy scores without neutral: {scores_dict_accuracy_polar}\")"
   ]
  },
  {
   "cell_type": "code",
   "execution_count": 43,
   "id": "095e5c3c",
   "metadata": {},
   "outputs": [
    {
     "data": {
      "text/html": [
       "<style>#sk-container-id-1 {color: black;}#sk-container-id-1 pre{padding: 0;}#sk-container-id-1 div.sk-toggleable {background-color: white;}#sk-container-id-1 label.sk-toggleable__label {cursor: pointer;display: block;width: 100%;margin-bottom: 0;padding: 0.3em;box-sizing: border-box;text-align: center;}#sk-container-id-1 label.sk-toggleable__label-arrow:before {content: \"▸\";float: left;margin-right: 0.25em;color: #696969;}#sk-container-id-1 label.sk-toggleable__label-arrow:hover:before {color: black;}#sk-container-id-1 div.sk-estimator:hover label.sk-toggleable__label-arrow:before {color: black;}#sk-container-id-1 div.sk-toggleable__content {max-height: 0;max-width: 0;overflow: hidden;text-align: left;background-color: #f0f8ff;}#sk-container-id-1 div.sk-toggleable__content pre {margin: 0.2em;color: black;border-radius: 0.25em;background-color: #f0f8ff;}#sk-container-id-1 input.sk-toggleable__control:checked~div.sk-toggleable__content {max-height: 200px;max-width: 100%;overflow: auto;}#sk-container-id-1 input.sk-toggleable__control:checked~label.sk-toggleable__label-arrow:before {content: \"▾\";}#sk-container-id-1 div.sk-estimator input.sk-toggleable__control:checked~label.sk-toggleable__label {background-color: #d4ebff;}#sk-container-id-1 div.sk-label input.sk-toggleable__control:checked~label.sk-toggleable__label {background-color: #d4ebff;}#sk-container-id-1 input.sk-hidden--visually {border: 0;clip: rect(1px 1px 1px 1px);clip: rect(1px, 1px, 1px, 1px);height: 1px;margin: -1px;overflow: hidden;padding: 0;position: absolute;width: 1px;}#sk-container-id-1 div.sk-estimator {font-family: monospace;background-color: #f0f8ff;border: 1px dotted black;border-radius: 0.25em;box-sizing: border-box;margin-bottom: 0.5em;}#sk-container-id-1 div.sk-estimator:hover {background-color: #d4ebff;}#sk-container-id-1 div.sk-parallel-item::after {content: \"\";width: 100%;border-bottom: 1px solid gray;flex-grow: 1;}#sk-container-id-1 div.sk-label:hover label.sk-toggleable__label {background-color: #d4ebff;}#sk-container-id-1 div.sk-serial::before {content: \"\";position: absolute;border-left: 1px solid gray;box-sizing: border-box;top: 0;bottom: 0;left: 50%;z-index: 0;}#sk-container-id-1 div.sk-serial {display: flex;flex-direction: column;align-items: center;background-color: white;padding-right: 0.2em;padding-left: 0.2em;position: relative;}#sk-container-id-1 div.sk-item {position: relative;z-index: 1;}#sk-container-id-1 div.sk-parallel {display: flex;align-items: stretch;justify-content: center;background-color: white;position: relative;}#sk-container-id-1 div.sk-item::before, #sk-container-id-1 div.sk-parallel-item::before {content: \"\";position: absolute;border-left: 1px solid gray;box-sizing: border-box;top: 0;bottom: 0;left: 50%;z-index: -1;}#sk-container-id-1 div.sk-parallel-item {display: flex;flex-direction: column;z-index: 1;position: relative;background-color: white;}#sk-container-id-1 div.sk-parallel-item:first-child::after {align-self: flex-end;width: 50%;}#sk-container-id-1 div.sk-parallel-item:last-child::after {align-self: flex-start;width: 50%;}#sk-container-id-1 div.sk-parallel-item:only-child::after {width: 0;}#sk-container-id-1 div.sk-dashed-wrapped {border: 1px dashed gray;margin: 0 0.4em 0.5em 0.4em;box-sizing: border-box;padding-bottom: 0.4em;background-color: white;}#sk-container-id-1 div.sk-label label {font-family: monospace;font-weight: bold;display: inline-block;line-height: 1.2em;}#sk-container-id-1 div.sk-label-container {text-align: center;}#sk-container-id-1 div.sk-container {/* jupyter's `normalize.less` sets `[hidden] { display: none; }` but bootstrap.min.css set `[hidden] { display: none !important; }` so we also need the `!important` here to be able to override the default hidden behavior on the sphinx rendered scikit-learn.org. See: https://github.com/scikit-learn/scikit-learn/issues/21755 */display: inline-block !important;position: relative;}#sk-container-id-1 div.sk-text-repr-fallback {display: none;}</style><div id=\"sk-container-id-1\" class=\"sk-top-container\"><div class=\"sk-text-repr-fallback\"><pre>SVC(kernel=&#x27;poly&#x27;)</pre><b>In a Jupyter environment, please rerun this cell to show the HTML representation or trust the notebook. <br />On GitHub, the HTML representation is unable to render, please try loading this page with nbviewer.org.</b></div><div class=\"sk-container\" hidden><div class=\"sk-item\"><div class=\"sk-estimator sk-toggleable\"><input class=\"sk-toggleable__control sk-hidden--visually\" id=\"sk-estimator-id-1\" type=\"checkbox\" checked><label for=\"sk-estimator-id-1\" class=\"sk-toggleable__label sk-toggleable__label-arrow\">SVC</label><div class=\"sk-toggleable__content\"><pre>SVC(kernel=&#x27;poly&#x27;)</pre></div></div></div></div></div>"
      ],
      "text/plain": [
       "SVC(kernel='poly')"
      ]
     },
     "execution_count": 43,
     "metadata": {},
     "output_type": "execute_result"
    }
   ],
   "source": [
    "# examples of failure\n",
    "model.fit(cv_all[\"encoded\"].tolist(), cv_all[\"sentiment\"])\n",
    "\n"
   ]
  },
  {
   "cell_type": "code",
   "execution_count": 30,
   "id": "f1c9e1d4",
   "metadata": {},
   "outputs": [
    {
     "name": "stdout",
     "output_type": "stream",
     "text": [
      "\n",
      " prediction:1 true:-1 \n",
      " message:RT @TwitchyTeam: New York Times 'slammed' with cancellations as punishment for climate change heresy https://t.co/uritRij1d6\n",
      "\n",
      " prediction:1 true:0 \n",
      " message:We did it, America. We beat global warming. https://t.co/BbZqC4J6zF\n",
      "\n",
      " prediction:1 true:-1 \n",
      " message:RT @Cernovich: $q$Global warming is real.$q$ - Science https://t.co/BqV5SCZMfq\n",
      "\n",
      " prediction:0 true:1 \n",
      " message:RT @TheMisterFavor: #NationalGeographicÃ¢â‚¬â„¢s climate change documentary with #LeonardoDiCaprio is now on #YouTube! https://t.co/yEA6kinX2AÃ¢â‚¬Â¦\n",
      "\n",
      " prediction:1 true:-1 \n",
      " message:RT @matthaggis666: Today on #abcforkids we have IPA's Georgina Downer explaining why climate change isn't real, and how voluntary voting isÃ¢â‚¬Â¦\n",
      "\n",
      " prediction:0 true:-1 \n",
      " message:Rebel Media: So who are the scientists who$q$ll be advising Trudeau, premiers on climate change?… https://t.co/Eioh8m817F #tcot #tlot #tgdn\n",
      "\n",
      " prediction:1 true:0 \n",
      " message:When Mother Earth sees you tweet that climate change isnâ€™t real. https://t.co/v8lJLV1kjR\n",
      "\n",
      " prediction:1 true:0 \n",
      " message:You really donâ€™t know how global warming works lol damn https://t.co/O27f2YyfN6\n",
      "\n",
      " prediction:1 true:-1 \n",
      " message:EPA head Pruitt: Paris climate change agreement 'all hat and no cattle' https://t.co/mZLsDYwHyk via the @FoxNews Android app\n",
      "America first!\n",
      "\n",
      " prediction:1 true:0 \n",
      " message:We Are The World: Global Warming Ends African Drought Catastrophe: Global warming put an end to one of the mos... http://t.co/lEDPCJ6yi0\n",
      "\n",
      " prediction:1 true:0 \n",
      " message:@drshow @AmyAHarder @chriscmooney @surveyfunk why do we project what climate change will look like 30 years from now? Why not 1 year?\n",
      "\n",
      " prediction:-1 true:0 \n",
      " message:@BernetaWrites But climate change is a Chinese hoax. Humanity!\n",
      "\n",
      " prediction:1 true:-1 \n",
      " message:@SteveSGoddard agree. After a foot of hail last week here in Tennessee climate change hit again last night https://t.co/DP3vvC9lfF\n",
      "\n",
      " prediction:1 true:0 \n",
      " message:RT @linnyitssn: Global Warming is made up by China.\n",
      "\n",
      "-Donald Trump- https://t.co/bmqhoaO66N\n"
     ]
    }
   ],
   "source": [
    "example_predictions = model.predict(cv_all[\"encoded\"].tolist()[:200])\n",
    "for i in range(200):\n",
    "    if example_predictions[i] != cv_all['sentiment'].tolist()[i]:\n",
    "        print(f\"\\n prediction:{example_predictions[i]} true:{cv_all['sentiment'].tolist()[i]} \\n message:{cv_all['message'].tolist()[i]}\")"
   ]
  },
  {
   "cell_type": "code",
   "execution_count": 44,
   "id": "56f61eab",
   "metadata": {},
   "outputs": [],
   "source": [
    "\n",
    "#reddit data (copied from Thierry's section)\n",
    "reddit_df = pd.read_csv('../input/reddit_opinion_climate_change.csv',index_col=['comment_id'], parse_dates=['created_time', 'post_created_time'])\n",
    "filtered_reddit_df = reddit_df.loc[reddit_df['subreddit'].isin(['climatechange', 'climate', 'climateskeptics'])]\n",
    "\n"
   ]
  },
  {
   "cell_type": "code",
   "execution_count": 54,
   "id": "3b134785",
   "metadata": {},
   "outputs": [],
   "source": [
    "def preprocess_dataframe_reddit(dataframe):\n",
    "    messages = dataframe[\"self_text\"].values\n",
    "    processed = []\n",
    "    for message in messages:\n",
    "        as_str = str(message) if message is not None else ''\n",
    "        remove_retweets = re.sub(r\"RT @\\w+:\", \"\", as_str)\n",
    "        remove_ats = re.sub(r\"@\\w+:\", \"\", remove_retweets)\n",
    "        remove_hashtags = re.sub(r\"#\", \"\", remove_ats)\n",
    "        processed.append(remove_hashtags)\n",
    "    encoded = transformer.encode(processed)\n",
    "    dataframe[\"encoded\"] = encoded.tolist()\n",
    "    \n",
    "    dataframe['year'] = pd.DatetimeIndex(dataframe['post_created_time']).year"
   ]
  },
  {
   "cell_type": "code",
   "execution_count": 57,
   "id": "86de21e3",
   "metadata": {},
   "outputs": [],
   "source": [
    "sampled_reddit_df = filtered_reddit_df.sample(n=10000, random_state=0)\n",
    "preprocess_dataframe_reddit(sampled_reddit_df)"
   ]
  },
  {
   "cell_type": "code",
   "execution_count": 58,
   "id": "86592234",
   "metadata": {},
   "outputs": [],
   "source": [
    "example_predictions = model.predict(sampled_reddit_df[\"encoded\"].tolist())"
   ]
  },
  {
   "cell_type": "code",
   "execution_count": 77,
   "id": "1629ee41",
   "metadata": {},
   "outputs": [
    {
     "data": {
      "text/plain": [
       "<Figure size 640x480 with 0 Axes>"
      ]
     },
     "execution_count": 77,
     "metadata": {},
     "output_type": "execute_result"
    },
    {
     "data": {
      "image/png": "[encoded data removed]",
      "text/plain": [
       "<Figure size 640x480 with 1 Axes>"
      ]
     },
     "metadata": {},
     "output_type": "display_data"
    },
    {
     "data": {
      "text/plain": [
       "<Figure size 640x480 with 0 Axes>"
      ]
     },
     "metadata": {},
     "output_type": "display_data"
    }
   ],
   "source": [
    "sampled_reddit_df[\"sentiment\"] = example_predictions\n",
    "plot_data = sampled_reddit_df.filter(['subreddit', 'sentiment', 'year'])\n",
    "plot_data.groupby(plot_data[\"year\"]).count().plot.bar(stacked=True)\n",
    "plt.figure()"
   ]
  },
  {
   "cell_type": "code",
   "execution_count": null,
   "id": "2015d0e5",
   "metadata": {},
   "outputs": [],
   "source": [
    "# use test data"
   ]
  }
 ],
 "metadata": {
  "kernelspec": {
   "display_name": "Python 3 (ipykernel)",
   "language": "python",
   "name": "python3"
  },
  "language_info": {
   "codemirror_mode": {
    "name": "ipython",
    "version": 3
   },
   "file_extension": ".py",
   "mimetype": "text/x-python",
   "name": "python",
   "nbconvert_exporter": "python",
   "pygments_lexer": "ipython3",
   "version": "3.11.5"
  }
 },
 "nbformat": 4,
 "nbformat_minor": 5
}
